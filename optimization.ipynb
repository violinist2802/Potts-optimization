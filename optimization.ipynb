{
 "cells": [
  {
   "cell_type": "code",
   "execution_count": 1,
   "id": "91ce795b",
   "metadata": {
    "tags": []
   },
   "outputs": [],
   "source": [
    "import wandb\n",
    "\n",
    "\n",
    "import pandas as pd \n",
    "import pyVCT \n",
    "import json\n",
    "from utils.draw import make_image \n",
    "from utils.auxiliary import *\n",
    "\n",
    "data = pd.read_csv('data.csv')"
   ]
  },
  {
   "cell_type": "code",
   "execution_count": 2,
   "id": "3a55889e",
   "metadata": {},
   "outputs": [],
   "source": [
    "def train(config=None):\n",
    "    with wandb.init(config=config):\n",
    "        config = wandb.config\n",
    "\n",
    "        conf_dict = dict(config)\n",
    "\n",
    "        cm_data, fb_data = get_exp_distributions(data, config['CELL_DAY_TYPE'])\n",
    "        \n",
    "        del conf_dict['CELL_DAY_TYPE']\n",
    "\n",
    "        types, c_tags, fibers, contacts = pyVCT.py_cpmfem(17, 68, 0.5, 0.0025, 1, 1, 'monolayer_without_fiber', 3001,\n",
    "                                                         **conf_dict)\n",
    "        CM, FB = make_df(c_tags, types)\n",
    "\n",
    "        metrics = compute_metrics(CM, FB, types, c_tags, fibers, contacts, cm_data, fb_data)\n",
    "        \n",
    "        wandb.log(metrics)  "
   ]
  },
  {
   "cell_type": "code",
   "execution_count": null,
   "id": "c1c2751d",
   "metadata": {},
   "outputs": [],
   "source": [
    "with open('sweeps/d20_sweeps/jcmmd_jfbmd.json', 'r') as fp:\n",
    "    sweep_config = json.load(fp)\n",
    "    \n",
    "sweep_id = wandb.sweep(sweep_config, project=\"potts-optimization\")"
   ]
  },
  {
   "cell_type": "code",
   "execution_count": null,
   "id": "6610ee0f",
   "metadata": {},
   "outputs": [],
   "source": [
    "wandb.agent(project=\"potts-optimization\", sweep_id='o513hnvh', function=train)"
   ]
  }
 ],
 "metadata": {
  "kernelspec": {
   "display_name": "Python 3 (ipykernel)",
   "language": "python",
   "name": "python3"
  },
  "language_info": {
   "codemirror_mode": {
    "name": "ipython",
    "version": 3
   },
   "file_extension": ".py",
   "mimetype": "text/x-python",
   "name": "python",
   "nbconvert_exporter": "python",
   "pygments_lexer": "ipython3",
   "version": "3.8.10"
  }
 },
 "nbformat": 4,
 "nbformat_minor": 5
}
